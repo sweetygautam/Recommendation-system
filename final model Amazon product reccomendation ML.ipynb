{
 "cells": [
  {
   "cell_type": "code",
   "execution_count": 15,
   "id": "ad4598b1-0b66-4284-a58c-ce9daeda0bc8",
   "metadata": {},
   "outputs": [
    {
     "name": "stderr",
     "output_type": "stream",
     "text": [
      "[nltk_data] Downloading package punkt to\n",
      "[nltk_data]     C:\\Users\\hp\\AppData\\Roaming\\nltk_data...\n",
      "[nltk_data]   Package punkt is already up-to-date!\n",
      "C:\\ProgramData\\anaconda3\\Lib\\site-packages\\sklearn\\feature_extraction\\text.py:517: UserWarning: The parameter 'token_pattern' will not be used since 'tokenizer' is not None'\n",
      "  warnings.warn(\n"
     ]
    }
   ],
   "source": [
    "import pandas as pd\n",
    "import numpy as np\n",
    "import nltk\n",
    "from nltk.stem.snowball import SnowballStemmer\n",
    "from sklearn.feature_extraction.text import TfidfVectorizer\n",
    "from sklearn.metrics.pairwise import cosine_similarity\n",
    "import streamlit as st\n",
    "from PIL import Image\n",
    "\n",
    "# Download punkt (only once, needed for word_tokenize)\n",
    "nltk.download('punkt')\n",
    "\n",
    "# Load dataset\n",
    "data = pd.read_csv('C:\\\\Users\\\\hp\\\\Downloads\\\\amazon_product.csv')\n",
    "\n",
    "# Remove unnecessary column if exists\n",
    "if 'id' in data.columns:\n",
    "    data = data.drop('id', axis=1)\n",
    "\n",
    "# Define tokenizer and stemmer\n",
    "stemmer = SnowballStemmer('english')\n",
    "def tokenize_and_stem(text):\n",
    "    tokens = nltk.word_tokenize(str(text).lower())\n",
    "    stems = [stemmer.stem(t) for t in tokens if t.isalpha()]  # keep only words\n",
    "    return stems\n",
    "\n",
    "# Create a text column combining Title + Description\n",
    "data['text'] = data['Title'].fillna('') + ' ' + data['Description'].fillna('')\n",
    "\n",
    "# TF-IDF vectorizer (fit once on whole dataset)\n",
    "tfidf_vectorizer = TfidfVectorizer(tokenizer=tokenize_and_stem)\n",
    "tfidf_matrix = tfidf_vectorizer.fit_transform(data['text'])\n",
    "\n",
    "# Search function\n",
    "def search_products(query, top_n=10):\n",
    "    query_tfidf = tfidf_vectorizer.transform([query])\n",
    "    cosine_similarities = cosine_similarity(query_tfidf, tfidf_matrix).flatten()\n",
    "    data['similarity'] = cosine_similarities\n",
    "    results = data.sort_values(by='similarity', ascending=False).head(top_n)[['Title', 'Description', 'Category', 'similarity']]\n",
    "    return results\n",
    "\n",
    "# # Example: show one product\n",
    "# print(data['Title'].iloc[1])\n",
    "\n",
    "# # Example: search\n",
    "# query = \"PURELL ES8 Professional HEALTHY SOAP Foam Refill, Fresh Scent Fragrance, 1200 mL Soap Refill for PURELL ES8 Touch-Free Dispenser (Pack of 2) - 7777-02\"\n",
    "# results = search_products(query)\n",
    "# print(results)"
   ]
  },
  {
   "cell_type": "code",
   "execution_count": null,
   "id": "115e3de6-5ea8-4409-94ff-edc5d02c993f",
   "metadata": {},
   "outputs": [],
   "source": [
    "# # Example: show one product\n",
    "print(data['Title'].iloc[10])\n"
   ]
  },
  {
   "cell_type": "code",
   "execution_count": 9,
   "id": "f38bc4d8-00ce-478a-8b22-b1cb25eee9a2",
   "metadata": {},
   "outputs": [
    {
     "name": "stdout",
     "output_type": "stream",
     "text": [
      "                                                 Title  \\\n",
      "10    PURELL ES8 Professional HEALTHY SOAP Foam Ref...   \n",
      "517   Mrs. Meyer Liquid Hand Soap Parsley & Rhubarb...   \n",
      "322   EO PRODUCTS SOAP,EVERYONE,CITRUS&MINT, 32 FZ ...   \n",
      "84    Body Fantasies Fresh White Musk 3 Piece Gift ...   \n",
      "324   Topiclear Number One Soap 3 Ounce Boxed (88ml...   \n",
      "628   Allied Brass 2032-VB Continental Collection W...   \n",
      "13    BRUT After Shave Classic Fragrance 5 oz (Pack...   \n",
      "544   GUM Proxabrush Go-Betweens Interdental Brush ...   \n",
      "291   Febreze Air Freshener, Noticeables Air Freshe...   \n",
      "606   Aquaphor Healing Skin Ointment Advanced Thera...   \n",
      "\n",
      "                                           Description  \\\n",
      "10   1200 ml refill for Purell ES8 touch-free soap ...   \n",
      "517  Mrs. Meyer's Clean Day Liquid Hand Soap Variet...   \n",
      "322  EO Products Everyone Soap Citrus and Mint is f...   \n",
      "84   Blends the clean fresh natural scents of brigh...   \n",
      "324  Develops A Remarkable Bactericidal And Fungici...   \n",
      "628  Check out our new bath goods collection! All o...   \n",
      "13   BRUT After Shave Classic Fragrance 5 oz (Pack ...   \n",
      "544  GUM Proxabrush Go-Betweens handle and refills ...   \n",
      "291  Febreze PLUG doesn't just mask odors, it clean...   \n",
      "606  For Dry, Cracked Or Irritated Skin, Preservati...   \n",
      "\n",
      "                                              Category  similarity  \n",
      "10    Industrial & Scientific › Janitorial & Sanita...    0.954629  \n",
      "517   Beauty & Personal Care › Foot, Hand & Nail Ca...    0.195367  \n",
      "322   Beauty & Personal Care Skin Care Body Cleanse...    0.153948  \n",
      "84      Beauty & Personal Care Fragrance Women's Sets     0.139735  \n",
      "324   Beauty & Personal Care › Skin Care › Body › C...    0.125924  \n",
      "628   Home & Kitchen › Bath › Bathroom Accessories ...    0.124217  \n",
      "13    Beauty & Personal Care › Shave & Hair Removal...    0.117588  \n",
      "544   Industrial & Scientific Professional Dental S...    0.106884  \n",
      "291   Health & Household › Household Supplies › Air...    0.105009  \n",
      "606   Health & Household › Health Care › Medication...    0.104901  \n"
     ]
    }
   ],
   "source": [
    "# # Example: search\n",
    "query = \"PURELL ES8 Professional HEALTHY SOAP Foam Refill, Fresh Scent Fragrance, 1200 mL Soap Refill for PURELL ES8 Touch-Free Dispenser (Pack of 2) - 7777-02\"\n",
    "results = search_products(query)\n",
    "print(results)"
   ]
  }
 ],
 "metadata": {
  "kernelspec": {
   "display_name": "Python 3 (ipykernel)",
   "language": "python",
   "name": "python3"
  },
  "language_info": {
   "codemirror_mode": {
    "name": "ipython",
    "version": 3
   },
   "file_extension": ".py",
   "mimetype": "text/x-python",
   "name": "python",
   "nbconvert_exporter": "python",
   "pygments_lexer": "ipython3",
   "version": "3.11.7"
  }
 },
 "nbformat": 4,
 "nbformat_minor": 5
}
